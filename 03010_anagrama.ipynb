{
 "cells": [
  {
   "cell_type": "markdown",
   "id": "a473d106",
   "metadata": {},
   "source": [
    "### 3.1 Анаграмма \n",
    "\n",
    "Сегодня будем играть в анаграммы. Будем составлять слова из букв другого слова. Исходное слово задаёт программист-владелец бота. Все пользователи - игроки."
   ]
  },
  {
   "cell_type": "code",
   "execution_count": null,
   "id": "52381e03-8a5b-46a8-a683-402e57bb03bd",
   "metadata": {},
   "outputs": [],
   "source": [
    "import telebot\n",
    "from settings import TOKEN\n",
    "\n",
    "# Вставьте ваш токен сюда\n",
    "bot = telebot.TeleBot(TOKEN)\n",
    "anagrams_lst = list()\n",
    "word = \"Апельсинка\"\n",
    "\n",
    "@bot.message_handler(commands=[\"start\"])\n",
    "def start_game(message):\n",
    "    bot.send_message(message.chat.id, f\"Придумай анаграмму к слову {word}.\")\n",
    "\n",
    "@bot.message_handler(func=lambda message: True)\n",
    "def anagrama_message(message):\n",
    "    # Получение данных\n",
    "    text = message.text\n",
    "    # Обработка данных\n",
    "    if text in anagrams_lst:\n",
    "        msg = \"Такое слово уже называли!\"\n",
    "    else:\n",
    "        msg = f\"Спасибо. Запомню слово {text}.\"\n",
    "    # Вывод данных\n",
    "    bot.reply_to(message, msg)\n",
    "\n",
    "if __name__ == \"__main__\":\n",
    "    bot.polling(none_stop=True)"
   ]
  },
  {
   "cell_type": "markdown",
   "id": "8bfdd704-4b46-438c-aa53-95ea5255444b",
   "metadata": {},
   "source": []
  },
  {
   "cell_type": "markdown",
   "id": "60e8890d",
   "metadata": {},
   "source": [
    "**Что тут происходит**\n",
    "\n",
    "1. Начальное слово задано в переменной word. Его можно изменить, но тогда придётся остановить программу и пропадёт список \"придуманных\" слов.\n",
    "\n",
    "2. Слова, которые введёт пользователь сохраним в список  `anagrams_lst`.\n",
    "\n",
    "На этом этапе проверять слова не будем. Главное - не допустить повторений слов в списке `anagrams_lst`.\n",
    "\n",
    "Начальное слово задано в переменной word. Его можно изменить, но тогда придётся остановить программу и пропадёт список \"придуманных\" слов.\n",
    "\n",
    "Слова, которые введёт пользователь сохраним в список `anagrams_lst`.\n",
    "\n",
    "На этом этапе проверять слова не будем. Главное - не допустить повторений слов в списке `anagrams_lst`."
   ]
  },
  {
   "cell_type": "markdown",
   "id": "9a2fcca2",
   "metadata": {},
   "source": [
    "Выделим блок обработки данных в отдельную функцию. Вся логика будет находиться в функции."
   ]
  },
  {
   "cell_type": "code",
   "execution_count": null,
   "id": "8b0257f4",
   "metadata": {},
   "outputs": [],
   "source": [
    "import telebot\n",
    "from settings import TOKEN\n",
    "\n",
    "# Вставьте ваш токен сюда\n",
    "bot = telebot.TeleBot(TOKEN)\n",
    "anagrams_lst = list()\n",
    "word = \"Апельсинка\"\n",
    "\n",
    "# Обработка данных\n",
    "def append_anagrams(text):\n",
    "    if text in anagrams_lst:\n",
    "        return False\n",
    "    else:\n",
    "        anagrams_lst.append(text)\n",
    "        return True\n",
    "\n",
    "@bot.message_handler(commands=[\"start\"])\n",
    "def start_game(message):\n",
    "    bot.send_message(message.chat.id, f\"Придумай анаграмму к слову {word}.\")\n",
    "\n",
    "@bot.message_handler(func=lambda message: True)\n",
    "def anagrama_message(message):\n",
    "    # Получение данных\n",
    "    text = message.text\n",
    "    # Подготовка ответа\n",
    "    if not append_anagrams(text):\n",
    "        msg = \"Такое слово уже называли!\"\n",
    "    else:\n",
    "        msg = f\"Спасибо. Запомню слово {text}.\"\n",
    "    # Вывод данных\n",
    "    bot.reply_to(message, msg)\n",
    "\n",
    "if __name__ == \"__main__\":\n",
    "    bot.polling(none_stop=True)"
   ]
  },
  {
   "cell_type": "markdown",
   "id": "662dfe99",
   "metadata": {},
   "source": [
    "**Что здесь происходит**\n",
    "\n",
    "Функция `append_anagrams()` выглядит странно. Всего 5 строчек, но столько внимания. Это сделано не напрасно. Так функцию можно отлаживать, тестировать и масштабировать. И для этого не обязательно запускать телеграм-бот.\n",
    "\n",
    "Выполните следующие две практические работы и вставьте готовый код в свою программу, чтобы бот стал умнее."
   ]
  }
 ],
 "metadata": {
  "kernelspec": {
   "display_name": "Python 3 (ipykernel)",
   "language": "python",
   "name": "python3"
  },
  "language_info": {
   "codemirror_mode": {
    "name": "ipython",
    "version": 3
   },
   "file_extension": ".py",
   "mimetype": "text/x-python",
   "name": "python",
   "nbconvert_exporter": "python",
   "pygments_lexer": "ipython3",
   "version": "3.13.2"
  }
 },
 "nbformat": 4,
 "nbformat_minor": 5
}
