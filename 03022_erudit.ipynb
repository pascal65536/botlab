{
 "cells": [
  {
   "cell_type": "markdown",
   "id": "a473d106",
   "metadata": {},
   "source": [
    "### Задание 2\n",
    "\n",
    "На прошлом уроке мы написали функцию `append_anagrams()`. Давайте разделим функционал. Пусть функция `can_append()` определяет можно ли составить слово, а добавлять в список будем в основной части программы. Функция должна принимать на вход слово пользователя, ключевое слово и список словарных слов `filestr`. В таком виде функцию можно будет целиком перенести в другую программу или даже включить в отдельный модуль.\n",
    "\n",
    "Обратите внимание, что если список словарных слов `filestr` пуст, то функция не должна блокировать все слова подряд, а наоборот - функция не реагирует на пустой список.\n",
    "\n",
    "### Sample Input 1:\n",
    "```\n",
    "filestr = []\n",
    "print(can_append('Тантиквариа', 'Антиквариат', filestr))\n",
    "```\n",
    "### Sample Output 1:\n",
    "```\n",
    "True\n",
    "```\n",
    "### Sample Input 2:\n",
    "```\n",
    "filestr = ['НАВАР', 'АКТ', 'КАНАТ', 'ДЕКАБРЬ', 'ТАКТ']\n",
    "print(can_append('Тантиквариа', 'Антиквариат', filestr))\n",
    "```\n",
    "### Sample Output 2:\n",
    "```\n",
    "False\n",
    "```\n",
    "### Sample Input 3:\n",
    "```\n",
    "filestr = ['НАВАР', 'АКТ', 'КАНАТ', 'ДЕКАБРЬ', 'ТАКТ']\n",
    "print(can_append('Актёр', 'Антиквариат', filestr))\n",
    "```\n",
    "### Sample Output 3:\n",
    "```\n",
    "False\n",
    "```\n",
    "### Sample Input 4:\n",
    "```\n",
    "filestr = ['НАВАР', 'АКТ', 'КАНАТ', 'ДЕКАБРЬ', 'ТАКТ']\n",
    "print(can_append('Декабрь', 'Антиквариат', filestr))\n",
    "```\n",
    "### Sample Output 4:\n",
    "```\n",
    "False\n",
    "```\n",
    "### Sample Input 5:\n",
    "```\n",
    "filestr = ['НАВАР', 'АКТ', 'КАНАТ', 'ДЕКАБРЬ', 'ТАКТ']\n",
    "print(can_append('канат', 'Антиквариат', filestr))\n",
    "```\n",
    "### Sample Output 5:\n",
    "```\n",
    "True\n",
    "```"
   ]
  },
  {
   "cell_type": "markdown",
   "id": "8bfdd704-4b46-438c-aa53-95ea5255444b",
   "metadata": {},
   "source": []
  }
 ],
 "metadata": {
  "kernelspec": {
   "display_name": "Python 3 (ipykernel)",
   "language": "python",
   "name": "python3"
  },
  "language_info": {
   "codemirror_mode": {
    "name": "ipython",
    "version": 3
   },
   "file_extension": ".py",
   "mimetype": "text/x-python",
   "name": "python",
   "nbconvert_exporter": "python",
   "pygments_lexer": "ipython3",
   "version": "3.13.2"
  }
 },
 "nbformat": 4,
 "nbformat_minor": 5
}
