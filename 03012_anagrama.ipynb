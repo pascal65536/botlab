{
 "cells": [
  {
   "cell_type": "markdown",
   "id": "a473d106",
   "metadata": {},
   "source": [
    "### Задание 2\n",
    "\n",
    "Играть придуманными только что словами не интересно. Будет здорово, если слова будут настоящими, из словаря русского языка. Для этого придётся поработать с файлами. Скачайте и изучите файл `russians1.txt` переместите его в корень проекта. Именно там будет находиться файл при проверке тестирующей системой.\n",
    "\n",
    "Напишите или дополните функцию `append_anagrams()`, которая принимает на вход в качестве аргумента строку и добавляет её в список `anagrams_lst`. Кроме всех проверок, что были сделаны в предыдущей работе, нужно проверить, есть ли такое слово среди русских слов из файла `russians1.txt`."
   ]
  },
  {
   "cell_type": "markdown",
   "id": "2a7e96a1",
   "metadata": {},
   "source": [
    "### Sample Input 1:\n",
    "```\n",
    "anagrams_lst = list()\n",
    "word = \"абвгдеёжзийклмнопрстуфхцчшщъыьэюя\"\n",
    "\n",
    "append_anagrams(\"брат\")\n",
    "append_anagrams(\"сверчок\")\n",
    "append_anagrams(\"рассвет\")\n",
    "append_anagrams(\"кольцо\")\n",
    "append_anagrams(\"облик\")\n",
    "print(anagrams_lst)\n",
    "```\n",
    "### Sample Output 1:\n",
    "```\n",
    "['брат', 'сверчок', 'облик']\n",
    "```\n",
    "### Sample Input 2:\n",
    "```\n",
    "anagrams_lst = list()\n",
    "word = \"Апельсинка\"\n",
    "\n",
    "append_anagrams(\"пеликан\")\n",
    "append_anagrams(\"капля\")\n",
    "append_anagrams(\"лиса\")\n",
    "append_anagrams(\"пена\")\n",
    "append_anagrams(\"линза\")\n",
    "print(anagrams_lst)\n",
    "append_anagrams(\"пилка\")\n",
    "append_anagrams(\"слика\")\n",
    "append_anagrams(\"калина\")\n",
    "append_anagrams(\"слепка\")\n",
    "append_anagrams(\"планка\")\n",
    "print(anagrams_lst)\n",
    "```\n",
    "### Sample Output 2:\n",
    "```\n",
    "['пеликан', 'лиса', 'пена']\n",
    "['пеликан', 'лиса', 'пена', 'пилка', 'калина', 'планка']\n",
    "```"
   ]
  }
 ],
 "metadata": {
  "kernelspec": {
   "display_name": "Python 3 (ipykernel)",
   "language": "python",
   "name": "python3"
  },
  "language_info": {
   "codemirror_mode": {
    "name": "ipython",
    "version": 3
   },
   "file_extension": ".py",
   "mimetype": "text/x-python",
   "name": "python",
   "nbconvert_exporter": "python",
   "pygments_lexer": "ipython3",
   "version": "3.13.2"
  }
 },
 "nbformat": 4,
 "nbformat_minor": 5
}
