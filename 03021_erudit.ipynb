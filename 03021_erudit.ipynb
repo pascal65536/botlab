{
 "cells": [
  {
   "cell_type": "markdown",
   "id": "a473d106",
   "metadata": {},
   "source": [
    "### Задание 1\n",
    "\n",
    "Напишите программу, которая запрашивает у пользователя его имя, класс и имя кл.руководителя. Затем пользователь вводит два числа через пробел — это размер прямоугольника из звездочек, которым будут разделены строчки при печати.\n",
    "\n",
    "### Sample Input:\n",
    "```\n",
    "Иван\n",
    "10А\n",
    "Иванов\n",
    "2 30\n",
    "```\n",
    "### Sample Output:\n",
    "```\n",
    "Ваше имя: Иван\n",
    "******************************\n",
    "******************************\n",
    "Ваш класс: 10А\n",
    "******************************\n",
    "******************************\n",
    "Ваш класс. руководитель: Иванов\n",
    "******************************\n",
    "******************************\n",
    "```"
   ]
  },
  {
   "cell_type": "markdown",
   "id": "8bfdd704-4b46-438c-aa53-95ea5255444b",
   "metadata": {},
   "source": []
  }
 ],
 "metadata": {
  "kernelspec": {
   "display_name": "Python 3 (ipykernel)",
   "language": "python",
   "name": "python3"
  },
  "language_info": {
   "codemirror_mode": {
    "name": "ipython",
    "version": 3
   },
   "file_extension": ".py",
   "mimetype": "text/x-python",
   "name": "python",
   "nbconvert_exporter": "python",
   "pygments_lexer": "ipython3",
   "version": "3.13.2"
  }
 },
 "nbformat": 4,
 "nbformat_minor": 5
}
